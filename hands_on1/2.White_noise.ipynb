{
 "cells": [
  {
   "cell_type": "code",
   "execution_count": null,
   "metadata": {},
   "outputs": [],
   "source": [
    "import numpy as np\n",
    "import pandas as pd\n",
    "from scipy import stats\n",
    "\n",
    "from matplotlib import pylab as plt\n",
    "import seaborn as sns\n",
    "%matplotlib inline\n",
    "sns.set()\n",
    "\n",
    "import statsmodels.api as sm"
   ]
  },
  {
   "cell_type": "code",
   "execution_count": null,
   "metadata": {},
   "outputs": [],
   "source": [
    "#ホワイトノイズ\n",
    "mean = 0\n",
    "sigma = 1\n",
    "T = 100\n",
    "\n",
    "epsilons = np.random.normal(mean, sigma, size=T)\n",
    "\n",
    "plt.figure(figsize=(12,8))\n",
    "plt.plot(epsilons)"
   ]
  },
  {
   "cell_type": "code",
   "execution_count": null,
   "metadata": {},
   "outputs": [],
   "source": [
    "#ランダムウォーク1\n",
    "mu = 0\n",
    "sigma = 1\n",
    "T = 100\n",
    "\n",
    "epsilons1 = np.random.choice([1, -1], size=T)\n",
    "epsilons1"
   ]
  },
  {
   "cell_type": "code",
   "execution_count": null,
   "metadata": {},
   "outputs": [],
   "source": [
    "#ランダムウォーク1\n",
    "mu = 0\n",
    "sigma = 1\n",
    "T = 100\n",
    "\n",
    "epsilons1 = np.random.choice([1, -1], size=T)\n",
    "\n",
    "random1 = np.zeros(T)\n",
    "random1[0] = mu + epsilons1[0]\n",
    "\n",
    "for t in range(1, T):\n",
    "    random1[t] = random1[t-1] + epsilons1[t]\n",
    "\n",
    "plt.figure(figsize=(12,8))\n",
    "plt.plot(random1)"
   ]
  },
  {
   "cell_type": "code",
   "execution_count": null,
   "metadata": {},
   "outputs": [],
   "source": [
    "#ランダムウォーク2\n",
    "mu = 0\n",
    "sigma = 1\n",
    "T = 100\n",
    "\n",
    "epsilons2 = np.random.normal(0, sigma, size=T)\n",
    "#標準正規分布ーnp.random.randn(T)\n",
    "\n",
    "random2 = np.zeros(T)\n",
    "random2[0] = mu + epsilons2[0]\n",
    "\n",
    "for t in range(1, T):\n",
    "    random2[t] = random2[t-1] + epsilons2[t]\n",
    "\n",
    "plt.figure(figsize=(12,8))\n",
    "plt.plot(random2)"
   ]
  },
  {
   "cell_type": "code",
   "execution_count": null,
   "metadata": {},
   "outputs": [],
   "source": [
    "#ランダムウォークの差分\n",
    "diffrandom2 = np.diff(random2)\n",
    "\n",
    "plt.figure(figsize=(12,8))\n",
    "plt.plot(diffrandom2)"
   ]
  },
  {
   "cell_type": "code",
   "execution_count": null,
   "metadata": {},
   "outputs": [],
   "source": [
    "#ランダムウォーク3\n",
    "mu = 0\n",
    "sigma = 1\n",
    "T = 100\n",
    "c = 0.05\n",
    "\n",
    "epsilons3 = np.random.normal(0, sigma, size=T)\n",
    "\n",
    "random3 = np.zeros(T)\n",
    "random3[0] = mu + epsilons3[0]\n",
    "\n",
    "for t in range(1, T):\n",
    "    random3[t] = c + random3[t-1] + epsilons3[t]\n",
    "\n",
    "plt.figure(figsize=(12,8))\n",
    "plt.plot(random3)"
   ]
  },
  {
   "cell_type": "markdown",
   "metadata": {},
   "source": [
    "問題：各パラメータを変えてみて，気づくことを述べよ。"
   ]
  },
  {
   "cell_type": "markdown",
   "metadata": {},
   "source": [
    "練習問題：次の式は幾何ブラウン運動を示す（問題の都合上一部加工してある）。\n",
    "$$\n",
    "X_t = X_{t-1} + \\sigma X_{t-1}\\Delta t + \\mu X_{t-1} \\Delta W\n",
    "$$\n",
    "ただし\n",
    "$$\n",
    "\\Delta t = 0.001, \\\\\n",
    "\\Delta W \\sim N(0, 0.005)\n",
    "$$\n",
    "とする。\n",
    "\n",
    "\n",
    "(1) t = 1000のときの，ΔWの時系列変動を描け。\n",
    "\n",
    "(2) μ = 1, σ = 2のときの，Xtの時系列変動を描け。（第2回の範囲）"
   ]
  },
  {
   "cell_type": "code",
   "execution_count": null,
   "metadata": {},
   "outputs": [],
   "source": []
  }
 ],
 "metadata": {
  "kernelspec": {
   "display_name": "Python 3",
   "language": "python",
   "name": "python3"
  },
  "language_info": {
   "codemirror_mode": {
    "name": "ipython",
    "version": 3
   },
   "file_extension": ".py",
   "mimetype": "text/x-python",
   "name": "python",
   "nbconvert_exporter": "python",
   "pygments_lexer": "ipython3",
   "version": "3.6.6"
  },
  "toc": {
   "base_numbering": 1,
   "nav_menu": {},
   "number_sections": true,
   "sideBar": true,
   "skip_h1_title": false,
   "title_cell": "Table of Contents",
   "title_sidebar": "Contents",
   "toc_cell": false,
   "toc_position": {},
   "toc_section_display": true,
   "toc_window_display": false
  }
 },
 "nbformat": 4,
 "nbformat_minor": 2
}
