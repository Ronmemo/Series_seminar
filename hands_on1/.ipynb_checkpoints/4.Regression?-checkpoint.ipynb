{
 "cells": [
  {
   "cell_type": "code",
   "execution_count": null,
   "metadata": {},
   "outputs": [],
   "source": [
    "import numpy as np\n",
    "import pandas as pd\n",
    "from scipy import stats\n",
    "\n",
    "from matplotlib import pylab as plt\n",
    "import seaborn as sns\n",
    "%matplotlib inline\n",
    "sns.set()\n",
    "\n",
    "import statsmodels.api as sm"
   ]
  },
  {
   "cell_type": "code",
   "execution_count": null,
   "metadata": {},
   "outputs": [],
   "source": [
    "#ホワイトノイズ2つ\n",
    "mean = 0\n",
    "sigma = 1 \n",
    "T = 10000\n",
    "\n",
    "e1 = np.random.normal(mean, sigma, size=T)\n",
    "e2 = np.random.normal(mean, sigma, size=T)\n",
    "\n",
    "x = e1\n",
    "y = e2\n",
    "\n",
    "plt.figure(figsize=(8,8))\n",
    "plt.scatter(x,y)"
   ]
  },
  {
   "cell_type": "code",
   "execution_count": null,
   "metadata": {},
   "outputs": [],
   "source": [
    "plt.figure(figsize=(12,8))\n",
    "plt.plot(x)\n",
    "plt.plot(y)"
   ]
  },
  {
   "cell_type": "code",
   "execution_count": null,
   "metadata": {},
   "outputs": [],
   "source": [
    "X = sm.add_constant(x)\n",
    "\n",
    "model = sm.OLS(y, X)\n",
    "\n",
    "results = model.fit()\n",
    "\n",
    "results.summary()\n",
    "#回帰係数は0"
   ]
  },
  {
   "cell_type": "code",
   "execution_count": null,
   "metadata": {},
   "outputs": [],
   "source": [
    "#ランダムウォーク2つ\n",
    "mean = 0\n",
    "sigma = 1 \n",
    "T = 10000\n",
    "\n",
    "e1 = np.random.normal(mean, sigma, size=T)\n",
    "e2 = np.random.normal(mean, sigma, size=T)\n",
    "\n",
    "random1 = np.zeros(T)\n",
    "random1[0] = mean + e1[0]\n",
    "\n",
    "for t in range(1, T):\n",
    "    random1[t] = random1[t-1] + e1[t]\n",
    "    \n",
    "    \n",
    "random2 = np.zeros(T)\n",
    "random2[0] = mean + e2[0]\n",
    "\n",
    "for t in range(1, T):\n",
    "    random2[t] = random2[t-1] + e2[t]\n",
    "    \n",
    "# 回帰分析に使うデータの指定\n",
    "x2 = random1\n",
    "y2 = random2\n",
    "    \n",
    "plt.figure(figsize=(8,8))\n",
    "plt.scatter(x2,y2)"
   ]
  },
  {
   "cell_type": "code",
   "execution_count": null,
   "metadata": {},
   "outputs": [],
   "source": [
    "plt.figure(figsize=(12,8))\n",
    "plt.plot(x2)\n",
    "plt.plot(y2)"
   ]
  },
  {
   "cell_type": "code",
   "execution_count": null,
   "metadata": {},
   "outputs": [],
   "source": [
    "X = sm.add_constant(x2)\n",
    "\n",
    "model = sm.OLS(y2, X)\n",
    "\n",
    "results = model.fit()\n",
    "\n",
    "results.summary()\n",
    "\n",
    "#回帰係数が有意？"
   ]
  },
  {
   "cell_type": "markdown",
   "metadata": {},
   "source": [
    "なぜ？"
   ]
  },
  {
   "cell_type": "code",
   "execution_count": null,
   "metadata": {},
   "outputs": [],
   "source": [
    "#差分ランダムウォーク2つ\n",
    "x3 = np.diff(random1)\n",
    "y3 = np.diff(random2)\n",
    "\n",
    "plt.figure(figsize=(8,8))\n",
    "plt.scatter(x3,y3)"
   ]
  },
  {
   "cell_type": "code",
   "execution_count": null,
   "metadata": {},
   "outputs": [],
   "source": [
    "plt.figure(figsize=(12,8))\n",
    "plt.plot(x3)\n",
    "plt.plot(y3)"
   ]
  },
  {
   "cell_type": "code",
   "execution_count": null,
   "metadata": {},
   "outputs": [],
   "source": [
    "X = sm.add_constant(x3)\n",
    "\n",
    "model = sm.OLS(y3, X)\n",
    "\n",
    "results = model.fit()\n",
    "\n",
    "results.summary()\n",
    "#回帰係数が有意でない，単位根過程"
   ]
  },
  {
   "cell_type": "code",
   "execution_count": null,
   "metadata": {},
   "outputs": [],
   "source": []
  }
 ],
 "metadata": {
  "kernelspec": {
   "display_name": "Python 3",
   "language": "python",
   "name": "python3"
  },
  "language_info": {
   "codemirror_mode": {
    "name": "ipython",
    "version": 3
   },
   "file_extension": ".py",
   "mimetype": "text/x-python",
   "name": "python",
   "nbconvert_exporter": "python",
   "pygments_lexer": "ipython3",
   "version": "3.6.6"
  },
  "toc": {
   "base_numbering": 1,
   "nav_menu": {},
   "number_sections": true,
   "sideBar": true,
   "skip_h1_title": false,
   "title_cell": "Table of Contents",
   "title_sidebar": "Contents",
   "toc_cell": false,
   "toc_position": {},
   "toc_section_display": true,
   "toc_window_display": false
  }
 },
 "nbformat": 4,
 "nbformat_minor": 2
}
