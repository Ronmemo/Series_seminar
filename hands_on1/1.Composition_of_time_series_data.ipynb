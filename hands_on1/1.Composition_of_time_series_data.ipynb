{
 "cells": [
  {
   "cell_type": "markdown",
   "metadata": {},
   "source": [
    "参考：https://logics-of-blue.com/python-time-series-analysis/\n",
    "https://blog.brains-tech.co.jp/entry/arima-tutorial-1\n",
    "https://momonoki2017.blogspot.com/2018/02/python1.html"
   ]
  },
  {
   "cell_type": "code",
   "execution_count": null,
   "metadata": {},
   "outputs": [],
   "source": [
    "import numpy as np\n",
    "import pandas as pd\n",
    "from scipy import stats\n",
    "\n",
    "from matplotlib import pylab as plt\n",
    "import seaborn as sns\n",
    "%matplotlib inline\n",
    "sns.set()\n",
    "\n",
    "import statsmodels.api as sm"
   ]
  },
  {
   "cell_type": "code",
   "execution_count": null,
   "metadata": {},
   "outputs": [],
   "source": [
    "data1 = pd.read_csv('AirPassengers.csv', \n",
    "                   index_col='ds', \n",
    "                   parse_dates=True, \n",
    "                   dtype='float')\n",
    "data1.head()"
   ]
  },
  {
   "cell_type": "code",
   "execution_count": null,
   "metadata": {},
   "outputs": [],
   "source": [
    "ts1 = data1['y'] \n",
    "ts1.head()"
   ]
  },
  {
   "cell_type": "code",
   "execution_count": null,
   "metadata": {
    "scrolled": false
   },
   "outputs": [],
   "source": [
    "plt.figure(figsize=(12,8))\n",
    "plt.plot(ts1)"
   ]
  },
  {
   "cell_type": "code",
   "execution_count": null,
   "metadata": {},
   "outputs": [],
   "source": [
    "ts_acf1 = sm.tsa.stattools.acf(ts1, nlags=40)\n",
    "ts_acf1"
   ]
  },
  {
   "cell_type": "code",
   "execution_count": null,
   "metadata": {},
   "outputs": [],
   "source": [
    "#コレログラム\n",
    "ts_acf1 = sm.tsa.stattools.acf(ts1, nlags=40)\n",
    "\n",
    "ts_pacf1 = sm.tsa.stattools.pacf(ts1, nlags=40, method='ols')\n",
    "\n",
    "fig = plt.figure(figsize=(12,8))\n",
    "ax1 = fig.add_subplot(211)\n",
    "fig = sm.graphics.tsa.plot_acf(ts1, lags=40, ax=ax1)\n",
    "ax2 = fig.add_subplot(212)\n",
    "fig = sm.graphics.tsa.plot_pacf(ts1, lags=40, ax=ax2)"
   ]
  },
  {
   "cell_type": "code",
   "execution_count": null,
   "metadata": {},
   "outputs": [],
   "source": [
    "#分解\n",
    "res = sm.tsa.seasonal_decompose(ts1)\n",
    "\n",
    "original = ts1 # オリジナルデータ\n",
    "trend = res.trend # トレンドデータ\n",
    "seasonal = res.seasonal # 季節性データ\n",
    "residual = res.resid # 残差データ\n",
    "\n",
    "plt.figure(figsize=(12,8)) # グラフ描画枠作成、サイズ指定\n",
    "\n",
    "# オリジナルデータのプロット\n",
    "plt.subplot(411) # グラフ4行1列の1番目の位置（一番上）\n",
    "plt.plot(original)\n",
    "plt.ylabel('Original')\n",
    "\n",
    "# trend データのプロット\n",
    "plt.subplot(412) # グラフ4行1列の2番目の位置\n",
    "plt.plot(trend)\n",
    "plt.ylabel('Trend')\n",
    "\n",
    "# seasonalデータ のプロット\n",
    "plt.subplot(413) # グラフ4行1列の3番目の位置\n",
    "plt.plot(seasonal)\n",
    "plt.ylabel('Seasonality')\n",
    "\n",
    "# residual データのプロット\n",
    "plt.subplot(414) # グラフ4行1列の4番目の位置（一番下）\n",
    "plt.plot(residual)\n",
    "plt.ylabel('Residuals')\n",
    "\n",
    "plt.tight_layout() # グラフの間隔を自動調整"
   ]
  },
  {
   "cell_type": "code",
   "execution_count": null,
   "metadata": {},
   "outputs": [],
   "source": [
    "sum_three_data = trend + seasonal + residual # トレンド + 季節性 + 残差\n",
    "\n",
    "plt.figure(figsize=(12,8)) # グラフ描画枠作成、サイズ指定\n",
    "plt.plot(original, label='original')\n",
    "plt.plot(sum_three_data, label='trend +season +resid', linestyle='--')\n",
    "plt.legend(loc='best') # 凡例表示"
   ]
  },
  {
   "cell_type": "code",
   "execution_count": null,
   "metadata": {},
   "outputs": [],
   "source": [
    "data2 = pd.read_csv('ebina_kion.csv', \n",
    "                   index_col='Month', \n",
    "                   parse_dates=True, \n",
    "                   dtype='float')\n",
    "data2.head()"
   ]
  },
  {
   "cell_type": "code",
   "execution_count": null,
   "metadata": {},
   "outputs": [],
   "source": [
    "ts2 = data2['kion'] \n",
    "ts2.head()"
   ]
  },
  {
   "cell_type": "code",
   "execution_count": null,
   "metadata": {},
   "outputs": [],
   "source": [
    "plt.figure(figsize=(12,8))\n",
    "plt.plot(ts2)"
   ]
  },
  {
   "cell_type": "code",
   "execution_count": null,
   "metadata": {},
   "outputs": [],
   "source": [
    "#コレログラム\n",
    "fig = plt.figure(figsize=(12,8))\n",
    "ax1 = fig.add_subplot(211)\n",
    "fig = sm.graphics.tsa.plot_acf(ts2, lags=40, ax=ax1)\n",
    "ax2 = fig.add_subplot(212)\n",
    "fig = sm.graphics.tsa.plot_pacf(ts2, lags=40, ax=ax2)"
   ]
  },
  {
   "cell_type": "code",
   "execution_count": null,
   "metadata": {},
   "outputs": [],
   "source": [
    "#分解\n",
    "res = sm.tsa.seasonal_decompose(ts2)\n",
    "\n",
    "original = ts2 # オリジナルデータ\n",
    "trend = res.trend # トレンドデータ\n",
    "seasonal = res.seasonal # 季節性データ\n",
    "residual = res.resid # 残差データ\n",
    "\n",
    "plt.figure(figsize=(12,8)) # グラフ描画枠作成、サイズ指定\n",
    "\n",
    "# オリジナルデータのプロット\n",
    "plt.subplot(411) # グラフ4行1列の1番目の位置（一番上）\n",
    "plt.plot(original)\n",
    "plt.ylabel('Original')\n",
    "\n",
    "# trend データのプロット\n",
    "plt.subplot(412) # グラフ4行1列の2番目の位置\n",
    "plt.plot(trend)\n",
    "plt.ylabel('Trend')\n",
    "\n",
    "# seasonalデータ のプロット\n",
    "plt.subplot(413) # グラフ4行1列の3番目の位置\n",
    "plt.plot(seasonal)\n",
    "plt.ylabel('Seasonality')\n",
    "\n",
    "# residual データのプロット\n",
    "plt.subplot(414) # グラフ4行1列の4番目の位置（一番下）\n",
    "plt.plot(residual)\n",
    "plt.ylabel('Residuals')\n",
    "\n",
    "plt.tight_layout() # グラフの間隔を自動調整"
   ]
  },
  {
   "cell_type": "code",
   "execution_count": null,
   "metadata": {},
   "outputs": [],
   "source": [
    "sum_three_data = trend + seasonal + residual # トレンド + 季節性 + 残差\n",
    "\n",
    "plt.figure(figsize=(12,8)) # グラフ描画枠作成、サイズ指定\n",
    "plt.plot(original, label='original')\n",
    "plt.plot(sum_three_data, label='trend +season +resid', linestyle='--')\n",
    "plt.legend(loc='best') # 凡例表示"
   ]
  },
  {
   "cell_type": "markdown",
   "metadata": {},
   "source": [
    "例：関数を組み合わせてそれっぽい時系列データを作成する"
   ]
  },
  {
   "cell_type": "code",
   "execution_count": null,
   "metadata": {},
   "outputs": [],
   "source": [
    "#横軸\n",
    "T = 100\n",
    "\n",
    "x = np.linspace(0,T, T+1)\n",
    "x"
   ]
  },
  {
   "cell_type": "code",
   "execution_count": null,
   "metadata": {},
   "outputs": [],
   "source": [
    "#トレンド\n",
    "y1 = x*2\n",
    "\n",
    "plt.figure(figsize=(12,8))\n",
    "plt.plot(x, y1)"
   ]
  },
  {
   "cell_type": "code",
   "execution_count": null,
   "metadata": {},
   "outputs": [],
   "source": [
    "#周期性\n",
    "y2 = 10*np.sin(x)\n",
    "\n",
    "plt.figure(figsize=(12,8))\n",
    "plt.plot(x, y2)"
   ]
  },
  {
   "cell_type": "code",
   "execution_count": null,
   "metadata": {},
   "outputs": [],
   "source": [
    "#足し合わせる\n",
    "Y = y1+y2\n",
    "\n",
    "plt.figure(figsize=(12,8))\n",
    "plt.plot(x, Y)"
   ]
  },
  {
   "cell_type": "markdown",
   "metadata": {},
   "source": [
    "練習問題：次の関数をそれぞれ図示して，さらにそれらを足し合わせた関数も図示せよ。\n",
    "\n",
    "$$\n",
    "f(x) = x^{1.5}, \\\\\n",
    "g(x) = 200 \\cos 2x\n",
    "$$\n",
    "\n",
    "（三角関数をより滑らかに表示するには？）"
   ]
  },
  {
   "cell_type": "code",
   "execution_count": null,
   "metadata": {},
   "outputs": [],
   "source": []
  }
 ],
 "metadata": {
  "kernelspec": {
   "display_name": "Python 3",
   "language": "python",
   "name": "python3"
  },
  "language_info": {
   "codemirror_mode": {
    "name": "ipython",
    "version": 3
   },
   "file_extension": ".py",
   "mimetype": "text/x-python",
   "name": "python",
   "nbconvert_exporter": "python",
   "pygments_lexer": "ipython3",
   "version": "3.6.6"
  },
  "toc": {
   "base_numbering": 1,
   "nav_menu": {},
   "number_sections": true,
   "sideBar": true,
   "skip_h1_title": false,
   "title_cell": "Table of Contents",
   "title_sidebar": "Contents",
   "toc_cell": false,
   "toc_position": {},
   "toc_section_display": true,
   "toc_window_display": false
  }
 },
 "nbformat": 4,
 "nbformat_minor": 2
}
