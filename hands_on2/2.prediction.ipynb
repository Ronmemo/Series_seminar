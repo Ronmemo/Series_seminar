{
 "cells": [
  {
   "cell_type": "code",
   "execution_count": null,
   "metadata": {},
   "outputs": [],
   "source": [
    "import pandas as pd\n",
    "import matplotlib.pyplot as plt\n",
    "%matplotlib inline\n",
    "\n",
    "import statsmodels.api as sm\n",
    "\n",
    "import warnings\n",
    "warnings.filterwarnings('ignore') # 計算警告を非表示"
   ]
  },
  {
   "cell_type": "markdown",
   "metadata": {},
   "source": [
    "# データの準備"
   ]
  },
  {
   "cell_type": "code",
   "execution_count": null,
   "metadata": {},
   "outputs": [],
   "source": [
    "df = pd.read_csv('ebina_kion.csv')\n",
    "df.head()"
   ]
  },
  {
   "cell_type": "code",
   "execution_count": null,
   "metadata": {},
   "outputs": [],
   "source": [
    "df.tail()"
   ]
  },
  {
   "cell_type": "code",
   "execution_count": null,
   "metadata": {},
   "outputs": [],
   "source": [
    "kion = pd.Series(df['kion'], dtype='float')\n",
    "kion.index = pd.to_datetime(df['Month'])\n",
    "\n",
    "print(kion.index.dtype)\n",
    "print(len(kion))\n",
    "kion.head()"
   ]
  },
  {
   "cell_type": "code",
   "execution_count": null,
   "metadata": {},
   "outputs": [],
   "source": [
    "plt.figure(figsize=(12,8))\n",
    "kion.plot()"
   ]
  },
  {
   "cell_type": "markdown",
   "metadata": {},
   "source": [
    "# データの分析"
   ]
  },
  {
   "cell_type": "code",
   "execution_count": null,
   "metadata": {},
   "outputs": [],
   "source": [
    "#分解\n",
    "res = sm.tsa.seasonal_decompose(kion)\n",
    "\n",
    "original = kion # オリジナルデータ\n",
    "trend = res.trend # トレンドデータ\n",
    "seasonal = res.seasonal # 季節性データ\n",
    "residual = res.resid # 残差データ\n",
    "\n",
    "plt.figure(figsize=(8, 8)) # グラフ描画枠作成、サイズ指定\n",
    "\n",
    "# オリジナルデータのプロット\n",
    "plt.subplot(411) # グラフ4行1列の1番目の位置（一番上）\n",
    "plt.plot(original)\n",
    "plt.ylabel('Original')\n",
    "\n",
    "# trend データのプロット\n",
    "plt.subplot(412) # グラフ4行1列の2番目の位置\n",
    "plt.plot(trend)\n",
    "plt.ylabel('Trend')\n",
    "\n",
    "# seasonalデータ のプロット\n",
    "plt.subplot(413) # グラフ4行1列の3番目の位置\n",
    "plt.plot(seasonal)\n",
    "plt.ylabel('Seasonality')\n",
    "\n",
    "# residual データのプロット\n",
    "plt.subplot(414) # グラフ4行1列の4番目の位置（一番下）\n",
    "plt.plot(residual)\n",
    "plt.ylabel('Residuals')\n",
    "\n",
    "plt.tight_layout()"
   ]
  },
  {
   "cell_type": "code",
   "execution_count": null,
   "metadata": {},
   "outputs": [],
   "source": [
    "#月別平均\n",
    "kion.groupby(kion.index.month).mean()"
   ]
  },
  {
   "cell_type": "code",
   "execution_count": null,
   "metadata": {},
   "outputs": [],
   "source": [
    "kion_month_mean = kion.groupby(kion.index.month).mean()\n",
    "kion_month_mean.plot(kind='bar')"
   ]
  },
  {
   "cell_type": "code",
   "execution_count": null,
   "metadata": {
    "scrolled": true
   },
   "outputs": [],
   "source": [
    "#コレログラム\n",
    "fig = plt.figure(figsize=(12,8))\n",
    "ax1 = fig.add_subplot(211)\n",
    "fig = sm.graphics.tsa.plot_acf(kion.values.squeeze(), lags=40, ax=ax1)\n",
    "ax2 = fig.add_subplot(212)\n",
    "fig = sm.graphics.tsa.plot_pacf(kion, lags=40, ax=ax2)"
   ]
  },
  {
   "cell_type": "markdown",
   "metadata": {},
   "source": [
    "# モデル推定"
   ]
  },
  {
   "cell_type": "code",
   "execution_count": null,
   "metadata": {},
   "outputs": [],
   "source": [
    "# 単位根検定\n",
    "adf_result = sm.tsa.stattools.adfuller(kion)\n",
    "adf_result\n",
    "# 棄却→単位根でない"
   ]
  },
  {
   "cell_type": "code",
   "execution_count": null,
   "metadata": {},
   "outputs": [],
   "source": [
    "# 自動ARMAパラメータ推定関数\n",
    "res_selection = sm.tsa.arma_order_select_ic(kion, max_ar=3, max_ma=3, ic='aic', trend='nc')\n",
    "res_selection"
   ]
  },
  {
   "cell_type": "code",
   "execution_count": null,
   "metadata": {},
   "outputs": [],
   "source": [
    "# SARIMAモデル作成その１\n",
    "sarimax = sm.tsa.SARIMAX(kion, \n",
    "                        order=(3, 0, 3),\n",
    "                        seasonal_order=(3, 0, 3, 12),\n",
    "                        enforce_stationarity = False,\n",
    "                        enforce_invertibility = False\n",
    "                        ).fit()"
   ]
  },
  {
   "cell_type": "code",
   "execution_count": null,
   "metadata": {},
   "outputs": [],
   "source": [
    "sarimax_resid = sarimax.resid # モデルの残差成分\n",
    "\n",
    "# モデル残差のコレログラム\n",
    "fig = plt.figure(figsize=(8, 8))\n",
    "\n",
    "# 自己相関(ACF)のグラフ\n",
    "ax1 = fig.add_subplot(211)\n",
    "sm.graphics.tsa.plot_acf(sarimax_resid, lags=40, ax=ax1) #ACF計算とグラフ自動作成\n",
    "\n",
    "# 偏自己相関(PACF)のグラフ\n",
    "ax2 = fig.add_subplot(212)\n",
    "sm.graphics.tsa.plot_pacf(sarimax_resid, lags=40, ax=ax2) #PACF計算とグラフ自動作成\n",
    "\n",
    "plt.tight_layout() # グラフ間スキマ調整"
   ]
  },
  {
   "cell_type": "code",
   "execution_count": null,
   "metadata": {},
   "outputs": [],
   "source": [
    "# SARIMAモデル（試しに）季節調整なし\n",
    "sarimax_noseasonal = sm.tsa.SARIMAX(kion, \n",
    "                        order=(3, 0, 3),\n",
    "                        seasonal_order=(3, 0, 3, 0),\n",
    "                        enforce_stationarity = False,\n",
    "                        enforce_invertibility = False\n",
    "                        ).fit()\n",
    "\n",
    "sarimax_noseasonal_resid = sarimax_noseasonal.resid # 残差成分\n",
    "\n",
    "fig = plt.figure(figsize=(8, 8))\n",
    "\n",
    "# 自己相関(ACF)のグラフ\n",
    "ax1 = fig.add_subplot(211)\n",
    "sm.graphics.tsa.plot_acf(sarimax_noseasonal_resid, lags=40, ax=ax1) #ACF計算とグラフ自動作成\n",
    "\n",
    "# 偏自己相関(PACF)のグラフ\n",
    "ax2 = fig.add_subplot(212)\n",
    "sm.graphics.tsa.plot_pacf(sarimax_noseasonal_resid, lags=40, ax=ax2) #PACF計算とグラフ自動作成\n",
    "\n",
    "plt.tight_layout() # グラフ間スキマ調整"
   ]
  },
  {
   "cell_type": "code",
   "execution_count": null,
   "metadata": {},
   "outputs": [],
   "source": [
    "print(sarimax.aic) # 季節調整あり\n",
    "print(sarimax_noseasonal.aic) # 季節調整なし"
   ]
  },
  {
   "cell_type": "code",
   "execution_count": null,
   "metadata": {},
   "outputs": [],
   "source": [
    "sarimax.summary()"
   ]
  },
  {
   "cell_type": "code",
   "execution_count": null,
   "metadata": {},
   "outputs": [],
   "source": [
    "sarimax_pred = sarimax.predict('1997-01', '2019-1') \n",
    "\n",
    "plt.figure(figsize=(12, 8))\n",
    "\n",
    "#元データ\n",
    "plt.plot(kion, label=\"original\")\n",
    "#モデル\n",
    "plt.plot(sarimax_pred, c=\"b\", label=\"model-pred\", alpha=0.7)\n",
    "plt.legend(loc='best')"
   ]
  },
  {
   "cell_type": "code",
   "execution_count": null,
   "metadata": {},
   "outputs": [],
   "source": [
    "#先5年まで予測\n",
    "sarimax_pred = sarimax.predict('2019-01', '2024-1') \n",
    "\n",
    "plt.figure(figsize=(12, 8))\n",
    "\n",
    "plt.plot(kion, label=\"original\")\n",
    "plt.plot(sarimax_pred, c=\"b\", label=\"model-pred\", alpha=0.7)\n",
    "plt.legend(loc='best')"
   ]
  },
  {
   "cell_type": "markdown",
   "metadata": {},
   "source": [
    "# train & predict"
   ]
  },
  {
   "cell_type": "code",
   "execution_count": null,
   "metadata": {},
   "outputs": [],
   "source": [
    "kion_train = kion['1997-01':'2015-12'] # モデル作成用データ 18年分\n",
    "print(kion_train.head())\n",
    "print(kion_train.tail())"
   ]
  },
  {
   "cell_type": "code",
   "execution_count": null,
   "metadata": {},
   "outputs": [],
   "source": [
    "kion_test = kion['2015-01':'2019-1'] # テスト用データ4年分\n",
    "print(kion_test.head())\n",
    "print(kion_test.tail())"
   ]
  },
  {
   "cell_type": "code",
   "execution_count": null,
   "metadata": {},
   "outputs": [],
   "source": [
    "# SRIMAモデル（テストデータを4年分除いてモデル作成）\n",
    "sarimax_train = sm.tsa.SARIMAX(kion_train, \n",
    "                        order=(3, 0, 3),\n",
    "                        seasonal_order=(3, 0, 3, 12),\n",
    "                        enforce_stationarity = False,\n",
    "                        enforce_invertibility = False\n",
    "                        ).fit()"
   ]
  },
  {
   "cell_type": "code",
   "execution_count": null,
   "metadata": {},
   "outputs": [],
   "source": [
    "sarimax_train_pred = sarimax_train.predict('2015-01', '2019-1') # テストデータ4年分予測\n",
    "\n",
    "plt.figure(figsize=(12, 8))\n",
    "\n",
    "plt.plot(kion, label=\"original\")\n",
    "plt.plot(sarimax_train_pred, c=\"b\", label=\"model-pred\", alpha=0.7)\n",
    "plt.legend(loc='best')"
   ]
  },
  {
   "cell_type": "code",
   "execution_count": null,
   "metadata": {},
   "outputs": [],
   "source": [
    "plt.figure(figsize=(8, 4))\n",
    "\n",
    "plt.plot(kion_test, label=\"actual\") # 正解\n",
    "plt.plot(sarimax_train_pred, c=\"b\", label=\"predict\", alpha=0.7) # 予測\n",
    "plt.legend(loc='best')"
   ]
  },
  {
   "cell_type": "code",
   "execution_count": null,
   "metadata": {},
   "outputs": [],
   "source": [
    "predict_dy = sarimax_train.get_prediction(start ='2015-12', end='2019-1')\n",
    "type(predict_dy)"
   ]
  },
  {
   "cell_type": "code",
   "execution_count": null,
   "metadata": {},
   "outputs": [],
   "source": [
    "predict_dy_ci = predict_dy.conf_int(alpha=0.05) #95%信頼区間\n",
    "type(predict_dy_ci)"
   ]
  },
  {
   "cell_type": "code",
   "execution_count": null,
   "metadata": {},
   "outputs": [],
   "source": [
    "predict_dy_ci # lower, upper取得"
   ]
  },
  {
   "cell_type": "code",
   "execution_count": null,
   "metadata": {},
   "outputs": [],
   "source": [
    "predict_dy.predicted_mean # mean取得"
   ]
  },
  {
   "cell_type": "code",
   "execution_count": null,
   "metadata": {},
   "outputs": [],
   "source": [
    "plt.figure(figsize=(8, 4))\n",
    "\n",
    "plt.plot(kion_test, label=\"Actual\")\n",
    "plt.plot(predict_dy.predicted_mean, c=\"b\", label=\"model-pred\", alpha=0.7)\n",
    "\n",
    "plt.fill_between(predict_dy_ci.index, predict_dy_ci.iloc[:, 0], predict_dy_ci.iloc[:, 1], color='g', alpha=0.2)\n",
    "plt.legend(loc='upper left')"
   ]
  },
  {
   "cell_type": "code",
   "execution_count": null,
   "metadata": {},
   "outputs": [],
   "source": [
    "predict2_dy = sarimax_train.get_prediction(start ='2015-12', end='2024-1') # 5年分の未来予測\n",
    "\n",
    "predict2_dy_ci = predict2_dy.conf_int()\n",
    "\n",
    "plt.figure(figsize=(12, 8))\n",
    "plt.plot(kion['2012-01':], label=\"actual\")\n",
    "plt.plot(predict2_dy.predicted_mean, c=\"b\", linestyle='--', label=\"model-pred\", alpha=0.7)\n",
    "\n",
    "plt.fill_between(predict2_dy_ci.index, predict2_dy_ci.iloc[:, 0], predict2_dy_ci.iloc[:, 1], color='g', alpha=0.2)\n",
    "plt.legend(loc='upper left')"
   ]
  },
  {
   "cell_type": "code",
   "execution_count": null,
   "metadata": {},
   "outputs": [],
   "source": []
  }
 ],
 "metadata": {
  "kernelspec": {
   "display_name": "Python 3",
   "language": "python",
   "name": "python3"
  },
  "language_info": {
   "codemirror_mode": {
    "name": "ipython",
    "version": 3
   },
   "file_extension": ".py",
   "mimetype": "text/x-python",
   "name": "python",
   "nbconvert_exporter": "python",
   "pygments_lexer": "ipython3",
   "version": "3.6.6"
  },
  "toc": {
   "base_numbering": 1,
   "nav_menu": {},
   "number_sections": true,
   "sideBar": true,
   "skip_h1_title": false,
   "title_cell": "Table of Contents",
   "title_sidebar": "Contents",
   "toc_cell": false,
   "toc_position": {},
   "toc_section_display": true,
   "toc_window_display": false
  }
 },
 "nbformat": 4,
 "nbformat_minor": 2
}
