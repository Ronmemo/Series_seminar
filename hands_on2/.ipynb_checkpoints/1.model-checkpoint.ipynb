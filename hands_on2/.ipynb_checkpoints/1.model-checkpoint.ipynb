{
 "cells": [
  {
   "cell_type": "code",
   "execution_count": null,
   "metadata": {},
   "outputs": [],
   "source": [
    "import numpy as np\n",
    "import pandas as pd\n",
    "from scipy import stats\n",
    "\n",
    "from matplotlib import pylab as plt\n",
    "import seaborn as sns\n",
    "%matplotlib inline\n",
    "sns.set()\n",
    "\n",
    "import statsmodels.api as sm"
   ]
  },
  {
   "cell_type": "markdown",
   "metadata": {},
   "source": [
    "# ARモデル"
   ]
  },
  {
   "cell_type": "code",
   "execution_count": null,
   "metadata": {},
   "outputs": [],
   "source": [
    "#AR(1)　(a)例\n",
    "phi_1 = 0.8\n",
    "c = 2\n",
    "sigma = 1\n",
    "T = 100\n",
    "\n",
    "#初期値の設定\n",
    "if phi_1 < 1:\n",
    "    mu = c/(1-phi_1)\n",
    "else:\n",
    "    mu=0\n",
    "\n",
    "epsilons = np.random.normal(0, sigma, size=T)\n",
    "\n",
    "ar_data = np.zeros(T)\n",
    "ar_data[0] = mu + epsilons[0]\n",
    "\n",
    "for t in range(1, T):\n",
    "    ar_data[t] = c + phi_1*ar_data[t-1] + epsilons[t]\n",
    "\n",
    "plt.figure(figsize=(12, 8))\n",
    "plt.plot(ar_data)"
   ]
  },
  {
   "cell_type": "code",
   "execution_count": null,
   "metadata": {},
   "outputs": [],
   "source": [
    "#AR(1)コレログラム\n",
    "fig = plt.figure(figsize=(12,8))\n",
    "ax1 = fig.add_subplot(211)\n",
    "fig = sm.graphics.tsa.plot_acf(ar_data, lags=40, ax=ax1)\n",
    "ax2 = fig.add_subplot(212)\n",
    "fig = sm.graphics.tsa.plot_pacf(ar_data, lags=40, ax=ax2)"
   ]
  },
  {
   "cell_type": "markdown",
   "metadata": {},
   "source": [
    "Q1. phi_1の値を変えてみて，気づくことを挙げよ（正負，絶対値）\n",
    "\n",
    "Q2. コレログラムの特徴を挙げよ（MAモデルとの比較）"
   ]
  },
  {
   "cell_type": "markdown",
   "metadata": {},
   "source": [
    "# MAモデル"
   ]
  },
  {
   "cell_type": "code",
   "execution_count": null,
   "metadata": {},
   "outputs": [],
   "source": [
    "#MA(1) (a)例\n",
    "T = 100\n",
    "theta_1 = 20\n",
    "sigma = 1\n",
    "mu = 0\n",
    "\n",
    "epsilons = np.random.normal(0, sigma, size=T)\n",
    "\n",
    "ma_data = np.zeros(T)\n",
    "ma_data[0] = mu + epsilons[0]\n",
    "\n",
    "for t in range(1, T):\n",
    "    ma_data[t] = mu+epsilons[t]+theta_1*epsilons[t-1]\n",
    "\n",
    "plt.figure(figsize=(12, 8))\n",
    "plt.plot(ma_data)"
   ]
  },
  {
   "cell_type": "code",
   "execution_count": null,
   "metadata": {},
   "outputs": [],
   "source": [
    "#MA(1)コレログラム\n",
    "fig = plt.figure(figsize=(12,8))\n",
    "ax1 = fig.add_subplot(211)\n",
    "fig = sm.graphics.tsa.plot_acf(ma_data, lags=40, ax=ax1)\n",
    "ax2 = fig.add_subplot(212)\n",
    "fig = sm.graphics.tsa.plot_pacf(ma_data, lags=40, ax=ax2)"
   ]
  },
  {
   "cell_type": "markdown",
   "metadata": {},
   "source": [
    "Q1. theta_1の値を変えてみて，気づくことを挙げよ（正負，絶対値）\n",
    "\n",
    "Q2. コレログラムの特徴を挙げよ（ARモデルとの比較）"
   ]
  },
  {
   "cell_type": "markdown",
   "metadata": {},
   "source": [
    "# ARMAモデル"
   ]
  },
  {
   "cell_type": "markdown",
   "metadata": {},
   "source": [
    "Q1. ARモデル，MAモデルのコードを参考に，ARMAモデルを実装せよ（パラメータは自由）\n",
    "\n",
    "Q2. 実装されたモデルについて次数選択を行い，評価を確認せよ（以下コードを動かす）"
   ]
  },
  {
   "cell_type": "code",
   "execution_count": null,
   "metadata": {},
   "outputs": [],
   "source": [
    "#次数決定（ARMAの確認）\n",
    "print(sm.tsa.arma_order_select_ic(arma_data, max_ar=3, max_ma=3, ic='aic'))"
   ]
  },
  {
   "cell_type": "markdown",
   "metadata": {},
   "source": [
    "# ARIMAモデル"
   ]
  },
  {
   "cell_type": "markdown",
   "metadata": {},
   "source": [
    "Q1. ARMAモデルからARIMAモデルを生成するコードを書け（差分変換）"
   ]
  },
  {
   "cell_type": "code",
   "execution_count": null,
   "metadata": {},
   "outputs": [],
   "source": []
  }
 ],
 "metadata": {
  "kernelspec": {
   "display_name": "Python 3",
   "language": "python",
   "name": "python3"
  },
  "language_info": {
   "codemirror_mode": {
    "name": "ipython",
    "version": 3
   },
   "file_extension": ".py",
   "mimetype": "text/x-python",
   "name": "python",
   "nbconvert_exporter": "python",
   "pygments_lexer": "ipython3",
   "version": "3.6.6"
  },
  "toc": {
   "base_numbering": 1,
   "nav_menu": {},
   "number_sections": true,
   "sideBar": true,
   "skip_h1_title": false,
   "title_cell": "Table of Contents",
   "title_sidebar": "Contents",
   "toc_cell": false,
   "toc_position": {},
   "toc_section_display": true,
   "toc_window_display": false
  }
 },
 "nbformat": 4,
 "nbformat_minor": 2
}
